{
 "cells": [
  {
   "cell_type": "code",
   "execution_count": 5,
   "id": "d90dafbe",
   "metadata": {},
   "outputs": [
    {
     "name": "stdout",
     "output_type": "stream",
     "text": [
      "The autoreload extension is already loaded. To reload it, use:\n",
      "  %reload_ext autoreload\n"
     ]
    }
   ],
   "source": [
    "%load_ext autoreload\n",
    "%autoreload 2\n",
    "\n",
    "import sys, tqdm\n",
    "import numpy as np\n",
    "from matplotlib import pyplot as plt\n",
    "\n",
    "from pathlib import Path\n",
    "\n",
    "root_dir = Path.cwd().parents[1]\n",
    "if not root_dir in sys.path: sys.path.insert(0,str(root_dir))\n",
    "\n",
    "\n",
    "from caiman.utils.utils import load_dict_from_hdf5"
   ]
  },
  {
   "cell_type": "code",
   "execution_count": null,
   "id": "6f8d851c",
   "metadata": {},
   "outputs": [
    {
     "name": "stderr",
     "output_type": "stream",
     "text": [
      "100%|██████████| 60/60 [00:14<00:00,  4.24it/s]\n"
     ]
    }
   ],
   "source": [
    "from placefield_detection.utils import (\n",
    "    prepare_behavior_from_file,\n",
    "    # get_spiking_data,\n",
    "    prepare_activity,\n",
    "    # estimate_stats_from_one_sided_process,\n",
    "    # obtain_significant_events_from_one_sided_process,\n",
    ")\n",
    "import concurrent.futures\n",
    "\n",
    "pathMouse = Path(\"../../../../data/845ad\")\n",
    "nbin = 40\n",
    "f = 15.0\n",
    "\n",
    "\n",
    "def process_session(args):\n",
    "    s, pathSession = args\n",
    "    try:\n",
    "        pathBehavior = pathSession / \"aligned_behavior.pkl\"\n",
    "        behavior = prepare_behavior_from_file(\n",
    "            pathBehavior,\n",
    "            nbin=nbin,\n",
    "            f=f,\n",
    "        )\n",
    "\n",
    "        pathActivity = [\n",
    "            file\n",
    "            for file in pathSession.iterdir()\n",
    "            if (\n",
    "                file.stem.startswith(\"results_CaImAn\")\n",
    "                and not \"compare\" in file.stem\n",
    "                and \"redetected\" in file.stem\n",
    "            )\n",
    "        ][0]\n",
    "\n",
    "        ld = load_dict_from_hdf5(pathActivity)\n",
    "        neuron_activity = ld[\"S\"][:, behavior[\"active\"]]\n",
    "        frate_row = np.zeros(neuron_activity.shape[0])\n",
    "        for neuron in range(neuron_activity.shape[0]):\n",
    "            activity = prepare_activity(\n",
    "                ld[\"S\"][neuron, :], behavior, f=f, only_active=True\n",
    "            )\n",
    "            frate_row[neuron] = np.mean(activity[\"firing_rate\"])\n",
    "            # _, frate_row[neuron], _ = get_spiking_data(neuron_activity[neuron, :])\n",
    "        return s, frate_row\n",
    "    except Exception:\n",
    "        return s, None\n",
    "\n",
    "\n",
    "sessions = list(enumerate(sorted(pathMouse.glob(\"Session*\"))))\n",
    "frate = np.empty((len(sessions), 0))\n",
    "frate[:] = np.nan\n",
    "\n",
    "with concurrent.futures.ProcessPoolExecutor() as executor:\n",
    "    results = list(\n",
    "        tqdm.tqdm(executor.map(process_session, sessions), total=len(sessions))\n",
    "    )\n",
    "\n",
    "for s, frate_row in results:\n",
    "    if frate_row is not None:\n",
    "        if len(frate_row) > frate.shape[1]:\n",
    "            # Extend frate to fit the new data\n",
    "            extra_cols = len(frate_row) - frate.shape[1]\n",
    "            frate = np.pad(\n",
    "                frate,\n",
    "                ((0, 0), (0, extra_cols)),\n",
    "                mode=\"constant\",\n",
    "                constant_values=np.nan,\n",
    "            )\n",
    "        frate[s, : len(frate_row)] = frate_row"
   ]
  },
  {
   "cell_type": "code",
   "execution_count": 7,
   "id": "8cb6ba1f",
   "metadata": {},
   "outputs": [
    {
     "data": {
      "image/png": "[encoded data removed]",
      "text/plain": [
       "<Figure size 500x300 with 1 Axes>"
      ]
     },
     "metadata": {},
     "output_type": "display_data"
    }
   ],
   "source": [
    "fig = plt.figure(figsize=(5, 3))\n",
    "ax = fig.add_subplot(111)\n",
    "ax.set_xlabel(\"Firing rate (Hz)\")\n",
    "ax.set_ylabel(\"Cumulative distribution\")\n",
    "\n",
    "color = [\"k\", \"r\", \"g\"]\n",
    "ranges = [0, 20, 40, 60]\n",
    "labels = [\"4 months\", \"7 months\", \"10 months\"]\n",
    "\n",
    "for set in range(3):\n",
    "    ax.hist(\n",
    "        frate[ranges[set] : ranges[set + 1], :].flatten(),\n",
    "        bins=np.linspace(0, 10, 1000),\n",
    "        color=color[set],\n",
    "        cumulative=True,\n",
    "        density=True,\n",
    "        histtype=\"step\",\n",
    "        label=labels[set],\n",
    "    )\n",
    "\n",
    "ax.set_xlim(0, 10)\n",
    "ax.legend()\n",
    "ax.axhline(1.0, color=\"k\", linestyle=\"--\", linewidth=0.5)\n",
    "ax.spines[[\"top\", \"right\"]].set_visible(False)"
   ]
  },
  {
   "cell_type": "code",
   "execution_count": null,
   "id": "46f6e2db",
   "metadata": {},
   "outputs": [],
   "source": []
  }
 ],
 "metadata": {
  "kernelspec": {
   "display_name": "caiman",
   "language": "python",
   "name": "python3"
  },
  "language_info": {
   "codemirror_mode": {
    "name": "ipython",
    "version": 3
   },
   "file_extension": ".py",
   "mimetype": "text/x-python",
   "name": "python",
   "nbconvert_exporter": "python",
   "pygments_lexer": "ipython3",
   "version": "3.11.7"
  }
 },
 "nbformat": 4,
 "nbformat_minor": 5
}
