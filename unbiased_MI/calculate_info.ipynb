{
 "cells": [
  {
   "cell_type": "code",
   "execution_count": null,
   "metadata": {},
   "outputs": [],
   "source": [
    "#importing libraries\n",
    "import numpy as np\n",
    "import pickle as pkl\n",
    "import matplotlib.pyplot as plt\n",
    "from scipy.ndimage import gaussian_filter\n",
    "from caiman.utils.utils import load_dict_from_hdf5"
   ]
  },
  {
   "cell_type": "code",
   "execution_count": null,
   "metadata": {},
   "outputs": [],
   "source": [
    "\n",
    "%run info_functions.py"
   ]
  },
  {
   "cell_type": "code",
   "execution_count": null,
   "metadata": {},
   "outputs": [],
   "source": [
    "def compute_info_versus_sample_size(spike_train, stimulus_trace, sample_sizes, dt, repetitions, info_measures,shuffle_peaks):\n",
    "\n",
    "    \"\"\"\n",
    "    Computes information content using multiple sample sizes\n",
    "    \n",
    "    Arguments\n",
    "    ----------\n",
    "    spike_train (np.array)\n",
    "    stimulus_trace (np.array)\n",
    "    sample_sizes (np.array): array of sample sizes\n",
    "    dt (float): Temporal bin size (in seconds)\n",
    "    repetitions (int): number of repititions for each sample size\n",
    "    info_measures (np.array): binary array to indicate measures to compute (size 1*3)\n",
    "    \n",
    "    \n",
    "    Returns\n",
    "    ----------\n",
    "    results (np.ndarray): information content\n",
    "\n",
    "    \"\"\"\n",
    "\n",
    "    N,T = spike_train.shape\n",
    "    sample_sizes = sample_fraction*T\n",
    "    nbr_samples = len(sample_sizes)\n",
    "   \n",
    "    #initializing arrays to store information content\n",
    "    if info_measures[0] or info_measures[1]:\n",
    "        info_bit_spike_vs_sample = np.full((N, nbr_samples), np.nan, order = 'F')\n",
    "        shuffle_info_bit_spike_vs_sample = np.full((N, nbr_samples), np.nan, order = 'F')\n",
    "        info_bit_sec_vs_sample = np.full((N, nbr_samples), np.nan, order = 'F')\n",
    "        shuffle_info_bit_sec_vs_sample = np.full((N, nbr_samples), np.nan, order = 'F')\n",
    "\n",
    "    if info_measures[2]:\n",
    "        info_mi_vs_sample = np.full((N,nbr_samples), np.nan, order = 'F')\n",
    "        shuffle_info_mi_vs_sample = np.full((N, nbr_samples), np.nan, order = 'F')\n",
    "\n",
    "    #calculating info for different sample sizes\n",
    "    for n in range(nbr_samples):\n",
    "\n",
    "        col_dim = int(np.ceil(repetitions * T / sample_sizes[n]))\n",
    "\n",
    "        num_time_bins = int(np.floor(sample_sizes[n]))\n",
    "\n",
    "        if info_measures[0] or info_measures[1]:\n",
    "            #initializing arrays to store information content\n",
    "            info_bit_spike = np.full((N, col_dim), np.nan, order = 'F')\n",
    "            shuffle_info_bit_spike = np.full((N, col_dim), np.nan, order = 'F')\n",
    "            info_bit_sec = np.full((N, col_dim), np.nan, order = 'F')\n",
    "            shuffle_info_bit_sec = np.full((N, col_dim), np.nan, order = 'F')\n",
    "        \n",
    "        if info_measures[2]:\n",
    "            #initializing arrays to store information content\n",
    "            info_mi = np.full((N, col_dim), np.nan, order = 'F')\n",
    "            shuffle_info_mi = np.full((N, col_dim), np.nan, order = 'F')\n",
    "     \n",
    "        for k in range(col_dim):\n",
    "            #shuffling spike trains\n",
    "            sample_indexes = np.argsort(np.random.rand(T))[:num_time_bins]\n",
    "            shuffled_spikes =np.squeeze( shuffling('shift',shuffle_peaks,spike_train=spike_train[:, sample_indexes]))\n",
    "            \n",
    "            if info_measures[0] or info_measures[1]:\n",
    "\n",
    "                #computing tunung curves and calculating information content\n",
    "                temp_tc, temp_states_distribution = compute_tuning_curves(spike_train[:, sample_indexes], stimulus_trace[sample_indexes], dt)\n",
    "                temp_fr = np.mean(spike_train[:, sample_indexes], axis=1) / dt\n",
    "\n",
    "                \n",
    "                temp_info_bit_spike, temp_info_bit_sec = compute_SI(temp_fr, temp_tc, temp_states_distribution)\n",
    "\n",
    "                info_bit_spike[:, k] = temp_info_bit_spike\n",
    "                info_bit_sec[:, k] = temp_info_bit_sec\n",
    "\n",
    "                temp_shuffled_tc, _ = compute_tuning_curves(shuffled_spikes, stimulus_trace[sample_indexes], dt)\n",
    "                temp_shuffle_fr = np.mean(shuffled_spikes, axis=1) / dt\n",
    "                temp_shuffle_info_bit_spike, temp_shuffle_info_bit_sec = compute_SI(temp_shuffle_fr, temp_shuffled_tc, temp_states_distribution)\n",
    "                shuffle_info_bit_spike[:, k] = temp_shuffle_info_bit_spike\n",
    "                shuffle_info_bit_sec[:, k] = temp_shuffle_info_bit_sec\n",
    "             \n",
    "            if info_measures[2]:\n",
    "                temp_mi = compute_MI(spike_train[:, sample_indexes], stimulus_trace[sample_indexes])\n",
    "                info_mi[:, k] = temp_mi\n",
    "                    \n",
    "                temp_mi_shuffle = compute_MI(shuffled_spikes, stimulus_trace[sample_indexes])\n",
    "                shuffle_info_mi[:, k] = temp_mi_shuffle\n",
    "\n",
    "        if info_measures[0] or info_measures[1]:\n",
    "            #averaging info content across sample sizes\n",
    "            info_bit_spike_vs_sample[:, n] = np.nanmean(info_bit_spike, axis=1)\n",
    "            shuffle_info_bit_spike_vs_sample[:, n] = np.nanmean(shuffle_info_bit_spike, axis=1)\n",
    "            info_bit_sec_vs_sample[:, n] = np.nanmean(info_bit_sec, axis=1)\n",
    "            shuffle_info_bit_sec_vs_sample[:, n] = np.nanmean(shuffle_info_bit_sec, axis=1)\n",
    " \n",
    "        if info_measures[2]:\n",
    "            info_mi_vs_sample[:, n] = np.nanmean(info_mi, axis=1)\n",
    "            shuffle_info_mi_vs_sample[:, n] = np.nanmean(shuffle_info_mi, axis=1)\n",
    "                \n",
    "    results = []\n",
    "    if info_measures[0] or info_measures[1]:\n",
    "        results.extend([info_bit_spike_vs_sample, shuffle_info_bit_spike_vs_sample, info_bit_sec_vs_sample, shuffle_info_bit_sec_vs_sample])\n",
    "    if info_measures[2]:\n",
    "        results.extend([info_mi_vs_sample, shuffle_info_mi_vs_sample])\n",
    "\n",
    "    return results       "
   ]
  },
  {
   "cell_type": "code",
   "execution_count": null,
   "metadata": {},
   "outputs": [
    {
     "data": {
      "text/plain": [
       "dict_keys(['A', 'C', 'Cn', 'S', 'SNR_comp', 'b', 'cnn_preds', 'dims', 'f', 'r_values'])"
      ]
     },
     "execution_count": 4,
     "metadata": {},
     "output_type": "execute_result"
    }
   ],
   "source": [
    "#loading calcium imaging data\n",
    "ca_data = load_dict_from_hdf5('/Users/namraaamir/Desktop/AD_hipp_analysis/OnACID_results/OnACID_results.hdf5')\n",
    "\n",
    "ca_data.keys()"
   ]
  },
  {
   "cell_type": "code",
   "execution_count": null,
   "metadata": {},
   "outputs": [
    {
     "data": {
      "text/plain": [
       "dict_keys(['frame', 'time', 'position', 'velocity_ref', 'velocity', 'reward', 'trials', 'bin_position', 'active', 'reward_location', 'reward_prob'])"
      ]
     },
     "execution_count": 5,
     "metadata": {},
     "output_type": "execute_result"
    }
   ],
   "source": [
    "#loading behavioral data\n",
    "with open('/Users/namraaamir/Desktop/AD_hipp_analysis/OnACID_results/aligned_behavior.pkl','rb') as f:\n",
    "    beh_data = pkl.load(f)\n",
    "\n",
    "beh_data.keys()"
   ]
  },
  {
   "cell_type": "code",
   "execution_count": null,
   "metadata": {},
   "outputs": [],
   "source": [
    "#getting position data of mice\n",
    "pos_data = np.array(beh_data['bin_position'])\n",
    "\n",
    "#getting ditance of track\n",
    "distance = np.max(pos_data) - np.min(pos_data)"
   ]
  },
  {
   "cell_type": "code",
   "execution_count": null,
   "metadata": {},
   "outputs": [],
   "source": [
    "#getting trials' start indices\n",
    "trial_idx = np.where(np.diff(pos_data)< -(distance/2))[0] + 1\n",
    "\n",
    "#checking if last trial is complete\n",
    "if pos_data[trial_idx[-1]:][-1] < (distance/2):\n",
    "    trial_idx = np.delete(trial_idx, -1)"
   ]
  },
  {
   "cell_type": "code",
   "execution_count": null,
   "metadata": {},
   "outputs": [],
   "source": [
    "#getting active instances\n",
    "active_spike = ca_data['S'][:, beh_data['active']]\n",
    "stimulus_trace = pos_data[beh_data['active']]"
   ]
  },
  {
   "cell_type": "code",
   "execution_count": null,
   "metadata": {},
   "outputs": [],
   "source": [
    "shuffle_peaks = False\n",
    "shuffled_activity = shuffling('shift',shuffle_peaks,spike_train=active_spike)"
   ]
  },
  {
   "cell_type": "code",
   "execution_count": null,
   "metadata": {},
   "outputs": [],
   "source": [
    "\n",
    "sample_fraction = np.arange(0.1, 1.1, 0.1)\n",
    "\n",
    "repetitions = 500\n",
    "info_measures = [1,1,1]\n",
    "\n",
    "dt = 0.05\n",
    "average_firing_rates = np.mean(active_spike,axis=1) / dt"
   ]
  },
  {
   "cell_type": "code",
   "execution_count": null,
   "metadata": {},
   "outputs": [],
   "source": [
    "tuning_curves, stimulus_distribution  = compute_tuning_curves(active_spike,stimulus_trace,dt)"
   ]
  },
  {
   "cell_type": "code",
   "execution_count": null,
   "metadata": {},
   "outputs": [],
   "source": [
    "SI_bit_spike, SI_bit_sec = compute_SI(average_firing_rates,tuning_curves, stimulus_distribution)"
   ]
  },
  {
   "cell_type": "code",
   "execution_count": null,
   "metadata": {},
   "outputs": [],
   "source": [
    "MI = compute_MI(active_spike,stimulus_trace)"
   ]
  },
  {
   "cell_type": "code",
   "execution_count": null,
   "metadata": {},
   "outputs": [],
   "source": [
    "[SI_naive_bit_spike_versus_sample_size,SI_shuffle_bit_spike_versus_sample_size,SI_naive_bit_sec_versus_sample_size,SI_shuffle_bit_sec_versus_sample_size,MI_naive_versus_sample_size,MI_shuffle_versus_sample_size]= compute_info_versus_sample_size(active_spike, stimulus_trace, sample_fraction, dt, 5000, [1,1,1],shuffle_peaks)"
   ]
  }
 ],
 "metadata": {
  "kernelspec": {
   "display_name": "caiman",
   "language": "python",
   "name": "python3"
  },
  "language_info": {
   "codemirror_mode": {
    "name": "ipython",
    "version": 3
   },
   "file_extension": ".py",
   "mimetype": "text/x-python",
   "name": "python",
   "nbconvert_exporter": "python",
   "pygments_lexer": "ipython3",
   "version": "3.11.6"
  },
  "orig_nbformat": 4
 },
 "nbformat": 4,
 "nbformat_minor": 2
}
